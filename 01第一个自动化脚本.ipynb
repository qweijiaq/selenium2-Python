{
 "metadata": {
  "language_info": {
   "codemirror_mode": {
    "name": "ipython",
    "version": 3
   },
   "file_extension": ".py",
   "mimetype": "text/x-python",
   "name": "python",
   "nbconvert_exporter": "python",
   "pygments_lexer": "ipython3",
   "version": 3
  },
  "orig_nbformat": 2
 },
 "nbformat": 4,
 "nbformat_minor": 2,
 "cells": [
  {
   "cell_type": "code",
   "execution_count": null,
   "metadata": {},
   "outputs": [],
   "source": [
    "# 为了防止乱码问题，以及方便地在程序中添加中文注释，把编码统一成UTF-8。\n",
    "# encoding=utf-8\n",
    "# 导入Selenium的WebDriver包，只有导入WebDriver包，才能使用WebDriver API进行自动化脚本开发\n",
    "from selenium import webdriver\n",
    "from selenium.webdriver.common.by import By\n",
    "from time import sleep\n",
    "\n",
    "# 将Chrome和chromedriver添加到环境变量\n",
    "\n",
    "# 定义一个Chrome浏览器驱动，用于后续的浏览器相关操作\n",
    "webdriver1 = webdriver.Chrome(r'C:\\Program Files\\Google\\Chrome\\Application\\chromedriver.exe')\n",
    "\n",
    "# 用get方法实现浏览器的调用，以及URL的访问\n",
    "webdriver1.get(\"http://www.baidu.com\")\n",
    "\n",
    "# 通过name属性来查找特定的元素，实现输入\n",
    "webdriver1.find_element_by_name('wd').send_keys('虚竹')\n",
    "\n",
    "# 通过id属性来查找特定的元素，实现点击操作\n",
    "webdriver1.find_element_by_id('su').click()\n",
    "\n",
    "# 设置一次等待,以秒为单位,作为响应(缓冲)时间\n",
    "sleep(1)\n",
    "\n",
    "# 点击第一条查询结果\n",
    "webdriver1.find_element_by_xpath('//*[@id=\"1\"]/h3/a').click()\n",
    "\n",
    "# find_element的封装,可以自定义定位方式\n",
    "# el = webdriver1.execute('findElement',{\n",
    "#     'using':By.XPATH,\n",
    "#     'value':'//*[@id=\"1\"]/h3/a'\n",
    "# })['value']\n",
    "# el._execute('clickElement')\n",
    "# ---效果同webdriver1.find_element_by_xpath('//*[@id=\"1\"]/h3/a').click()---\n"
   ]
  }
 ]
}