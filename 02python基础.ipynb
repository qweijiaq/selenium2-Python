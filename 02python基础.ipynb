{
 "metadata": {
  "language_info": {
   "codemirror_mode": {
    "name": "ipython",
    "version": 3
   },
   "file_extension": ".py",
   "mimetype": "text/x-python",
   "name": "python",
   "nbconvert_exporter": "python",
   "pygments_lexer": "ipython3",
   "version": "3.6.10-final"
  },
  "orig_nbformat": 2,
  "kernelspec": {
   "name": "python3",
   "display_name": "Python 3",
   "language": "python"
  }
 },
 "nbformat": 4,
 "nbformat_minor": 2,
 "cells": [
  {
   "source": [
    "### 输入和输出"
   ],
   "cell_type": "markdown",
   "metadata": {}
  },
  {
   "source": [
    "#### 打印"
   ],
   "cell_type": "markdown",
   "metadata": {}
  },
  {
   "cell_type": "code",
   "execution_count": 1,
   "metadata": {},
   "outputs": [
    {
     "output_type": "stream",
     "name": "stdout",
     "text": [
      "hello python\n"
     ]
    }
   ],
   "source": [
    "print(\"hello python\")"
   ]
  },
  {
   "cell_type": "code",
   "execution_count": 2,
   "metadata": {},
   "outputs": [
    {
     "output_type": "stream",
     "name": "stdout",
     "text": [
      "hello lisi !\n"
     ]
    }
   ],
   "source": [
    "# %s打印字符串\n",
    "name = 'lisi'\n",
    "print(\"hello %s !\"%name)"
   ]
  },
  {
   "cell_type": "code",
   "execution_count": 4,
   "metadata": {},
   "outputs": [
    {
     "output_type": "stream",
     "name": "stdout",
     "text": [
      "27 years old\n"
     ]
    }
   ],
   "source": [
    "# %d打印数字\n",
    "age = 27\n",
    "print(\"%d years old\"%age)"
   ]
  },
  {
   "cell_type": "code",
   "execution_count": 6,
   "metadata": {},
   "outputs": [
    {
     "output_type": "stream",
     "name": "stdout",
     "text": [
      "You print is 100.\n"
     ]
    }
   ],
   "source": [
    "# 有时候我们并不知道自己要打印的是什么类型的信息，这时可以用%r来表示\n",
    "n = 100\n",
    "print(\"You print is %r.\"%n)"
   ]
  },
  {
   "cell_type": "code",
   "execution_count": 7,
   "metadata": {},
   "outputs": [
    {
     "output_type": "stream",
     "name": "stdout",
     "text": [
      "You print is 'abc'.\n"
     ]
    }
   ],
   "source": [
    "n = \"abc\"\n",
    "print(\"You print is %r.\"%n)"
   ]
  },
  {
   "source": [
    "#### input输入"
   ],
   "cell_type": "markdown",
   "metadata": {}
  },
  {
   "cell_type": "code",
   "execution_count": 9,
   "metadata": {},
   "outputs": [
    {
     "output_type": "stream",
     "name": "stdout",
     "text": [
      "You print is '5'.\n"
     ]
    }
   ],
   "source": [
    "# 当运行到input()时,需要用户输入一些信息,而print将会把用户输入的内信息打印出来\n",
    "n = input(\"Enter any content:\")\n",
    "print(\"You print is %r.\"%n)"
   ]
  },
  {
   "source": [
    "### 分支和循环"
   ],
   "cell_type": "markdown",
   "metadata": {}
  },
  {
   "source": [
    "#### if语句"
   ],
   "cell_type": "markdown",
   "metadata": {}
  },
  {
   "cell_type": "code",
   "execution_count": 11,
   "metadata": {},
   "outputs": [
    {
     "output_type": "stream",
     "name": "stdout",
     "text": [
      "b is max\n"
     ]
    }
   ],
   "source": [
    "a = 2\n",
    "b = 3\n",
    "if a > b:\n",
    "    print('a is max')\n",
    "else:\n",
    "    print('b is max')"
   ]
  },
  {
   "cell_type": "code",
   "execution_count": 12,
   "metadata": {},
   "outputs": [
    {
     "output_type": "stream",
     "name": "stdout",
     "text": [
      "xiaoming, You are on duty today.\n"
     ]
    }
   ],
   "source": [
    "student =\"xiaoming\"\n",
    "if student == \"xiaoming\": \n",
    "    print(\"xiaoming, You are on duty today.\") \n",
    "else: \n",
    "    print(\"Please call xiaoming to duty\")"
   ]
  },
  {
   "cell_type": "code",
   "execution_count": 13,
   "metadata": {},
   "outputs": [
    {
     "output_type": "stream",
     "name": "stdout",
     "text": [
      "Contain\n"
     ]
    }
   ],
   "source": [
    "# if语句还可以用“in”和“not in”表示包含的关系\n",
    "hi = \"hello world\"\n",
    "if \"hello\" in hi: \n",
    "    print(\"Contain\") \n",
    "else:\n",
    "    print(\"Not Contain\")"
   ]
  },
  {
   "cell_type": "code",
   "execution_count": 14,
   "metadata": {},
   "outputs": [
    {
     "output_type": "stream",
     "name": "stdout",
     "text": [
      "a is True\n"
     ]
    }
   ],
   "source": [
    "# if语句甚至可以进行布尔类型的判断\n",
    "a = True\n",
    "if a:\n",
    "    print(\"a is True\")\n",
    "else:\n",
    "    print(\"a is not True\")"
   ]
  },
  {
   "cell_type": "code",
   "execution_count": 15,
   "metadata": {},
   "outputs": [
    {
     "output_type": "stream",
     "name": "stdout",
     "text": [
      "良好\n"
     ]
    }
   ],
   "source": [
    "# 多重条件判断\n",
    "results=72\n",
    "if results>=90: \n",
    "    print('优秀') \n",
    "elif results>=70: \n",
    "    print('良好') \n",
    "elif results>=60: \n",
    "    print('及格') \n",
    "else: \n",
    "    print('不及格')\n"
   ]
  },
  {
   "source": [
    "#### for语句"
   ],
   "cell_type": "markdown",
   "metadata": {}
  },
  {
   "cell_type": "code",
   "execution_count": 16,
   "metadata": {},
   "outputs": [
    {
     "output_type": "stream",
     "name": "stdout",
     "text": [
      "h\ne\nl\nl\no\n \nw\no\nr\nl\nd\n"
     ]
    }
   ],
   "source": [
    "# 字符串\n",
    "for i in \"hello world\":\n",
    "    print(i)"
   ]
  },
  {
   "cell_type": "code",
   "execution_count": 17,
   "metadata": {},
   "outputs": [
    {
     "output_type": "stream",
     "name": "stdout",
     "text": [
      "banana\napple\nmango\n"
     ]
    }
   ],
   "source": [
    "# 字典\n",
    "fruits=['banana', 'apple', 'mango']\n",
    "for fruit in fruits:\n",
    "    print(fruit)"
   ]
  },
  {
   "cell_type": "code",
   "execution_count": 18,
   "metadata": {},
   "outputs": [
    {
     "output_type": "stream",
     "name": "stdout",
     "text": [
      "0\n1\n2\n3\n4\n"
     ]
    }
   ],
   "source": [
    "for i in range(5):\n",
    "    print(i)"
   ]
  },
  {
   "cell_type": "code",
   "execution_count": 20,
   "metadata": {},
   "outputs": [
    {
     "output_type": "stream",
     "name": "stdout",
     "text": [
      "1\n3\n5\n7\n9\n"
     ]
    }
   ],
   "source": [
    "# range(start,end[,step])\n",
    "# start表示开始位置，end表示结束位置，step表示每一次循环的步长\n",
    "for i in range(1,10,2):\n",
    "    print(i)"
   ]
  },
  {
   "source": [
    "### 列表和字典\n",
    "#### 列表"
   ],
   "cell_type": "markdown",
   "metadata": {}
  },
  {
   "cell_type": "code",
   "execution_count": 22,
   "metadata": {},
   "outputs": [
    {
     "output_type": "execute_result",
     "data": {
      "text/plain": [
       "[1, 2, 3, 'a', 5]"
      ]
     },
     "metadata": {},
     "execution_count": 22
    }
   ],
   "source": [
    "lists = [1,2,3,'a',5]\n",
    "lists"
   ]
  },
  {
   "cell_type": "code",
   "execution_count": 23,
   "metadata": {},
   "outputs": [
    {
     "output_type": "execute_result",
     "data": {
      "text/plain": [
       "1"
      ]
     },
     "metadata": {},
     "execution_count": 23
    }
   ],
   "source": [
    "lists[0]"
   ]
  },
  {
   "cell_type": "code",
   "execution_count": 24,
   "metadata": {},
   "outputs": [
    {
     "output_type": "execute_result",
     "data": {
      "text/plain": [
       "5"
      ]
     },
     "metadata": {},
     "execution_count": 24
    }
   ],
   "source": [
    "lists[4]"
   ]
  },
  {
   "cell_type": "code",
   "execution_count": 26,
   "metadata": {},
   "outputs": [
    {
     "output_type": "execute_result",
     "data": {
      "text/plain": [
       "[1, 2, 3, 'a', 'b']"
      ]
     },
     "metadata": {},
     "execution_count": 26
    }
   ],
   "source": [
    "lists[4] = 'b'\n",
    "lists"
   ]
  },
  {
   "cell_type": "code",
   "execution_count": 27,
   "metadata": {},
   "outputs": [
    {
     "output_type": "execute_result",
     "data": {
      "text/plain": [
       "[1, 2, 3, 'a', 'b', 'c']"
      ]
     },
     "metadata": {},
     "execution_count": 27
    }
   ],
   "source": [
    "lists.append('c')\n",
    "lists"
   ]
  },
  {
   "source": [
    "#### 字典"
   ],
   "cell_type": "markdown",
   "metadata": {}
  },
  {
   "cell_type": "code",
   "execution_count": 28,
   "metadata": {},
   "outputs": [
    {
     "output_type": "execute_result",
     "data": {
      "text/plain": [
       "dict_keys(['username', 'password'])"
      ]
     },
     "metadata": {},
     "execution_count": 28
    }
   ],
   "source": [
    "dicts={\"username\": \"zhangsan\", 'password':123456} \n",
    "# keys()函数返回字典key的列表\n",
    "dicts.keys() "
   ]
  },
  {
   "cell_type": "code",
   "execution_count": 29,
   "metadata": {},
   "outputs": [
    {
     "output_type": "execute_result",
     "data": {
      "text/plain": [
       "dict_values(['zhangsan', 123456])"
      ]
     },
     "metadata": {},
     "execution_count": 29
    }
   ],
   "source": [
    "# values()函数返回字典value的列表\n",
    "dicts.values()\n"
   ]
  },
  {
   "cell_type": "code",
   "execution_count": 30,
   "metadata": {},
   "outputs": [
    {
     "output_type": "execute_result",
     "data": {
      "text/plain": [
       "dict_items([('username', 'zhangsan'), ('password', 123456)])"
      ]
     },
     "metadata": {},
     "execution_count": 30
    }
   ],
   "source": [
    "# items()函数将所有的字典项以列表方式返回，这些列表中的每一项都包含key和value，但是项在返回时并不会按照它们在字典中的存放顺序\n",
    "dicts.items()"
   ]
  },
  {
   "cell_type": "code",
   "execution_count": 31,
   "metadata": {},
   "outputs": [
    {
     "output_type": "stream",
     "name": "stdout",
     "text": [
      "dicts keys is'username'\ndicts values is'zhangsan'\ndicts keys is'password'\ndicts values is123456\n"
     ]
    }
   ],
   "source": [
    "for k,v in dicts.items(): \n",
    "    print(\"dicts keys is%r\"%k) \n",
    "    print(\"dicts values is%r\"%v)"
   ]
  },
  {
   "cell_type": "code",
   "execution_count": 32,
   "metadata": {},
   "outputs": [
    {
     "output_type": "stream",
     "name": "stdout",
     "text": [
      "b 2\na 1\nc 3\ne 5\nd 4\n"
     ]
    }
   ],
   "source": [
    "# 通过zip方法合并两个List为Dictionary \n",
    "# 遍历会按原先的顺序 \n",
    "keys=[\"b\", \"a\", \"c\", \"e\", \"d\"] \n",
    "values=[\"2\", \"1\", \"3\", \"5\", \"4\"] \n",
    "for key,value in zip(keys, values): \n",
    "    print(key, value)"
   ]
  },
  {
   "source": [
    "### 函数、类和方法"
   ],
   "cell_type": "markdown",
   "metadata": {}
  },
  {
   "source": [
    "#### 函数"
   ],
   "cell_type": "markdown",
   "metadata": {}
  },
  {
   "cell_type": "code",
   "execution_count": 34,
   "metadata": {},
   "outputs": [
    {
     "output_type": "stream",
     "name": "stdout",
     "text": [
      "8\n"
     ]
    }
   ],
   "source": [
    "def add(a,b):\n",
    "    print(a+b)\n",
    "add(3,5)"
   ]
  },
  {
   "cell_type": "code",
   "execution_count": 35,
   "metadata": {},
   "outputs": [
    {
     "output_type": "stream",
     "name": "stdout",
     "text": [
      "8\n"
     ]
    }
   ],
   "source": [
    "# 默认参数\n",
    "# 如果调用时不传参，那么add()函数就使用默认参数进行计算；如果传参则计算参数的值\n",
    "def add(a=3,b=5):\n",
    "    print(a+b)\n",
    "add()"
   ]
  },
  {
   "source": [
    "#### 类和方法"
   ],
   "cell_type": "markdown",
   "metadata": {}
  },
  {
   "cell_type": "code",
   "execution_count": 37,
   "metadata": {},
   "outputs": [
    {
     "output_type": "stream",
     "name": "stdout",
     "text": [
      "8\n"
     ]
    }
   ],
   "source": [
    "class A(object):\n",
    "    def add(self,a,b):\n",
    "        return a+b\n",
    "count = A()     # 类的实例化\n",
    "print(count.add(3,5))"
   ]
  },
  {
   "cell_type": "code",
   "execution_count": 38,
   "metadata": {},
   "outputs": [
    {
     "output_type": "stream",
     "name": "stdout",
     "text": [
      "9\n"
     ]
    }
   ],
   "source": [
    "# 一般在创建类时会首先声明初始化方法__init__()\n",
    "class A():\n",
    "    def __init__(self,a,b):\n",
    "        self.a = int(a)\n",
    "        self.b = int(b)\n",
    "\n",
    "    def add(self):\n",
    "        return self.a +self.b\n",
    "count = A('4','5')   # 类中有初始化函数时，初始化所需要的参数，在实例化类时就要传入，并且初始化在实例化时自动执行，无需再调用。\n",
    "print(count.add())"
   ]
  },
  {
   "cell_type": "code",
   "execution_count": 39,
   "metadata": {},
   "outputs": [
    {
     "output_type": "stream",
     "name": "stdout",
     "text": [
      "9\n"
     ]
    }
   ],
   "source": [
    "# 类的继承\n",
    "class A():\n",
    "    def add(self,a,b):\n",
    "        return a + b\n",
    "\n",
    "class B(A):\n",
    "    def sub(self,a,b):\n",
    "        return a - b\n",
    "\n",
    "print(B().add(4,5))"
   ]
  },
  {
   "source": [
    "### 模组"
   ],
   "cell_type": "markdown",
   "metadata": {}
  },
  {
   "source": [
    "#### 引用模块"
   ],
   "cell_type": "markdown",
   "metadata": {}
  },
  {
   "cell_type": "code",
   "execution_count": 41,
   "metadata": {},
   "outputs": [
    {
     "output_type": "stream",
     "name": "stdout",
     "text": [
      "Wed Jan 27 14:30:16 2021\n"
     ]
    }
   ],
   "source": [
    "import time\n",
    "print(time.ctime())"
   ]
  },
  {
   "cell_type": "code",
   "execution_count": 42,
   "metadata": {},
   "outputs": [
    {
     "output_type": "execute_result",
     "data": {
      "text/plain": [
       "'Wed Jan 27 14:30:41 2021'"
      ]
     },
     "metadata": {},
     "execution_count": 42
    }
   ],
   "source": [
    "from time import ctime\n",
    "ctime()"
   ]
  },
  {
   "cell_type": "code",
   "execution_count": 43,
   "metadata": {},
   "outputs": [
    {
     "output_type": "stream",
     "name": "stdout",
     "text": [
      "Wed Jan 27 14:32:28 2021\n",
      "休眠两秒\n",
      "Wed Jan 27 14:32:30 2021\n"
     ]
    }
   ],
   "source": [
    "# *代表模块下面的所有方法\n",
    "from time import *\n",
    "print(ctime())\n",
    "print('休眠两秒')\n",
    "sleep(2)\n",
    "print(ctime())"
   ]
  },
  {
   "cell_type": "code",
   "execution_count": 44,
   "metadata": {},
   "outputs": [
    {
     "output_type": "stream",
     "name": "stdout",
     "text": [
      "Help on built-in function time in module time:\n\ntime(...)\n    time() -> floating point number\n    \n    Return the current time in seconds since the Epoch.\n    Fractions of a second may be present if the system clock provides them.\n\n"
     ]
    }
   ],
   "source": [
    "# help查看帮助说明\n",
    "help(time)"
   ]
  },
  {
   "source": [
    "#### 调用模块"
   ],
   "cell_type": "markdown",
   "metadata": {}
  },
  {
   "cell_type": "code",
   "execution_count": 45,
   "metadata": {},
   "outputs": [],
   "source": [
    "# 调用自己的模块需要提前导入路径到os.path\n",
    "# import sys\n",
    "# sys.path.append('路径')\n",
    "# from 路径 import 自己的模块"
   ]
  },
  {
   "source": [
    "### 异常"
   ],
   "cell_type": "markdown",
   "metadata": {}
  },
  {
   "source": [
    "#### 认识异常"
   ],
   "cell_type": "markdown",
   "metadata": {}
  },
  {
   "cell_type": "code",
   "execution_count": 46,
   "metadata": {},
   "outputs": [
    {
     "output_type": "error",
     "ename": "FileNotFoundError",
     "evalue": "[Errno 2] No such file or directory: 'abc.txt'",
     "traceback": [
      "\u001b[1;31m---------------------------------------------------------------------------\u001b[0m",
      "\u001b[1;31mFileNotFoundError\u001b[0m                         Traceback (most recent call last)",
      "\u001b[1;32m<ipython-input-46-1ec90328a80f>\u001b[0m in \u001b[0;36m<module>\u001b[1;34m\u001b[0m\n\u001b[1;32m----> 1\u001b[1;33m \u001b[0mopen\u001b[0m\u001b[1;33m(\u001b[0m\u001b[1;34m'abc.txt'\u001b[0m\u001b[1;33m,\u001b[0m\u001b[1;34m'r'\u001b[0m\u001b[1;33m)\u001b[0m\u001b[1;33m\u001b[0m\u001b[1;33m\u001b[0m\u001b[0m\n\u001b[0m",
      "\u001b[1;31mFileNotFoundError\u001b[0m: [Errno 2] No such file or directory: 'abc.txt'"
     ]
    }
   ],
   "source": [
    "open('abc.txt','r')"
   ]
  },
  {
   "cell_type": "code",
   "execution_count": 47,
   "metadata": {},
   "outputs": [
    {
     "output_type": "stream",
     "name": "stdout",
     "text": [
      "异常了！\n"
     ]
    }
   ],
   "source": [
    "try:\n",
    "    open('abc.txt','r')\n",
    "except FileNotFoundError:\n",
    "    print('异常了！')"
   ]
  },
  {
   "cell_type": "code",
   "execution_count": 48,
   "metadata": {},
   "outputs": [
    {
     "output_type": "error",
     "ename": "NameError",
     "evalue": "name 'aa' is not defined",
     "traceback": [
      "\u001b[1;31m---------------------------------------------------------------------------\u001b[0m",
      "\u001b[1;31mNameError\u001b[0m                                 Traceback (most recent call last)",
      "\u001b[1;32m<ipython-input-48-287989f6e096>\u001b[0m in \u001b[0;36m<module>\u001b[1;34m\u001b[0m\n\u001b[0;32m      1\u001b[0m \u001b[1;32mtry\u001b[0m\u001b[1;33m:\u001b[0m\u001b[1;33m\u001b[0m\u001b[1;33m\u001b[0m\u001b[0m\n\u001b[1;32m----> 2\u001b[1;33m     \u001b[0mprint\u001b[0m\u001b[1;33m(\u001b[0m\u001b[0maa\u001b[0m\u001b[1;33m)\u001b[0m\u001b[1;33m\u001b[0m\u001b[1;33m\u001b[0m\u001b[0m\n\u001b[0m\u001b[0;32m      3\u001b[0m \u001b[1;32mexcept\u001b[0m \u001b[0mFileNotFoundError\u001b[0m\u001b[1;33m:\u001b[0m\u001b[1;33m\u001b[0m\u001b[1;33m\u001b[0m\u001b[0m\n\u001b[0;32m      4\u001b[0m     \u001b[0mprint\u001b[0m\u001b[1;33m(\u001b[0m\u001b[1;34m'异常了！'\u001b[0m\u001b[1;33m)\u001b[0m\u001b[1;33m\u001b[0m\u001b[1;33m\u001b[0m\u001b[0m\n",
      "\u001b[1;31mNameError\u001b[0m: name 'aa' is not defined"
     ]
    }
   ],
   "source": [
    "try:\n",
    "    print(aa)\n",
    "except FileNotFoundError:\n",
    "    print('异常了！')"
   ]
  },
  {
   "cell_type": "code",
   "execution_count": 49,
   "metadata": {},
   "outputs": [
    {
     "output_type": "stream",
     "name": "stdout",
     "text": [
      "这是一个name异常！\n"
     ]
    }
   ],
   "source": [
    "try:\n",
    "    print(aa)\n",
    "except NameError:\n",
    "    print('这是一个name异常！')"
   ]
  },
  {
   "cell_type": "code",
   "execution_count": 50,
   "metadata": {},
   "outputs": [
    {
     "output_type": "stream",
     "name": "stdout",
     "text": [
      "异常了！\n"
     ]
    }
   ],
   "source": [
    "# 在Python中所有的异常类都继承Exception，所以可以使用它来接收所有类型的异常\n",
    "try:\n",
    "    open('abc.txt','r')\n",
    "except Exception:\n",
    "    print('异常了！')"
   ]
  },
  {
   "cell_type": "code",
   "execution_count": 51,
   "metadata": {},
   "outputs": [
    {
     "output_type": "stream",
     "name": "stdout",
     "text": [
      "异常了！\n"
     ]
    }
   ],
   "source": [
    "# 也可以使用BaseException来接收所有类型的异常\n",
    "try:\n",
    "    open('abc.txt','r')\n",
    "except BaseException:\n",
    "    print('异常了！')"
   ]
  },
  {
   "cell_type": "code",
   "execution_count": 52,
   "metadata": {},
   "outputs": [
    {
     "output_type": "stream",
     "name": "stdout",
     "text": [
      "[Errno 2] No such file or directory: 'abc.txt'\n"
     ]
    }
   ],
   "source": [
    "# 打印异常\n",
    "try:\n",
    "    open('abc.txt','r')\n",
    "    print(aa)\n",
    "except BaseException as msg:\n",
    "    print(msg)"
   ]
  },
  {
   "source": [
    "![](./图片/1.jpg)"
   ],
   "cell_type": "markdown",
   "metadata": {}
  },
  {
   "source": [
    "#### 异常其他用法"
   ],
   "cell_type": "markdown",
   "metadata": {}
  },
  {
   "cell_type": "code",
   "execution_count": 1,
   "metadata": {},
   "outputs": [
    {
     "output_type": "stream",
     "name": "stdout",
     "text": [
      "异常测试：\n没有异常！\n"
     ]
    }
   ],
   "source": [
    "# else只在没有异常时执行\n",
    "try:\n",
    "    aa = '异常测试：'\n",
    "    print(aa)\n",
    "except Exception as msg:\n",
    "    print(msg)\n",
    "else:\n",
    "    print('没有异常！')"
   ]
  },
  {
   "cell_type": "code",
   "execution_count": 2,
   "metadata": {},
   "outputs": [
    {
     "output_type": "stream",
     "name": "stdout",
     "text": [
      "name 'bb' is not defined\n不管有没有异常,我都会执行!\n"
     ]
    }
   ],
   "source": [
    "# finally不管有没有异常都执行\n",
    "try:\n",
    "    print(bb)\n",
    "except Exception as e:\n",
    "    print(e)\n",
    "finally:\n",
    "    print('不管有没有异常,我都会执行!')"
   ]
  },
  {
   "cell_type": "code",
   "execution_count": 3,
   "metadata": {},
   "outputs": [
    {
     "output_type": "stream",
     "name": "stdout",
     "text": [
      "异常测试：\n不管有没有异常,我都会执行!\n"
     ]
    }
   ],
   "source": [
    "try:\n",
    "    print(aa)\n",
    "except Exception as e:\n",
    "    print(e)\n",
    "finally:\n",
    "    print('不管有没有异常,我都会执行!')"
   ]
  },
  {
   "source": [
    "#### 抛出异常"
   ],
   "cell_type": "markdown",
   "metadata": {}
  },
  {
   "cell_type": "code",
   "execution_count": 4,
   "metadata": {},
   "outputs": [
    {
     "output_type": "error",
     "ename": "NameError",
     "evalue": "9 is odd",
     "traceback": [
      "\u001b[1;31m---------------------------------------------------------------------------\u001b[0m",
      "\u001b[1;31mNameError\u001b[0m                                 Traceback (most recent call last)",
      "\u001b[1;32m<ipython-input-4-78a9c58137ea>\u001b[0m in \u001b[0;36m<module>\u001b[1;34m\u001b[0m\n\u001b[0;32m      8\u001b[0m     \u001b[1;32mraise\u001b[0m \u001b[0mNameError\u001b[0m\u001b[1;33m(\u001b[0m\u001b[1;34m'%d is even'\u001b[0m\u001b[1;33m%\u001b[0m\u001b[0mnumber\u001b[0m\u001b[1;33m)\u001b[0m\u001b[1;33m\u001b[0m\u001b[1;33m\u001b[0m\u001b[0m\n\u001b[0;32m      9\u001b[0m \u001b[1;32melse\u001b[0m\u001b[1;33m:\u001b[0m\u001b[1;33m\u001b[0m\u001b[1;33m\u001b[0m\u001b[0m\n\u001b[1;32m---> 10\u001b[1;33m     \u001b[1;32mraise\u001b[0m \u001b[0mNameError\u001b[0m\u001b[1;33m(\u001b[0m\u001b[1;34m'%d is odd'\u001b[0m\u001b[1;33m%\u001b[0m\u001b[0mnumber\u001b[0m\u001b[1;33m)\u001b[0m\u001b[1;33m\u001b[0m\u001b[1;33m\u001b[0m\u001b[0m\n\u001b[0m",
      "\u001b[1;31mNameError\u001b[0m: 9 is odd"
     ]
    }
   ],
   "source": [
    "# raise方法可以抛出一个异常\n",
    "from random import randint\n",
    "\n",
    "# 生成一个1到9之间的随机整数\n",
    "number = randint(1,9)\n",
    "\n",
    "if number % 2 == 0:\n",
    "    raise NameError('%d is even'%number)\n",
    "else:\n",
    "    raise NameError('%d is odd'%number)"
   ]
  },
  {
   "cell_type": "code",
   "execution_count": null,
   "metadata": {},
   "outputs": [],
   "source": []
  }
 ]
}